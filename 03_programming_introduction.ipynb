{
 "cells": [
  {
   "cell_type": "code",
   "execution_count": 2,
   "metadata": {},
   "outputs": [
    {
     "name": "stdout",
     "output_type": "stream",
     "text": [
      "Hello, michico!\n",
      "3.2\n",
      "True\n"
     ]
    }
   ],
   "source": [
    "hi = \"Hello, michico!\"\n",
    "my_float = 3.2\n",
    "my_boolean = True\n",
    "print (hi)\n",
    "print (my_float)\n",
    "print (my_boolean)"
   ]
  },
  {
   "cell_type": "code",
   "execution_count": 6,
   "metadata": {},
   "outputs": [
    {
     "name": "stdout",
     "output_type": "stream",
     "text": [
      "10未満です\n"
     ]
    }
   ],
   "source": [
    "x = 9\n",
    "if x < 10:\n",
    "    print (\"10未満です\")\n",
    "else :\n",
    "    print (\"10以上です\")"
   ]
  },
  {
   "cell_type": "code",
   "execution_count": 13,
   "metadata": {},
   "outputs": [
    {
     "name": "stdout",
     "output_type": "stream",
     "text": [
      "25より大きいです\n"
     ]
    }
   ],
   "source": [
    "x = 26\n",
    "if x <= 10:\n",
    "    print (\"10以下です\")\n",
    "elif x > 10 and x <= 25:\n",
    "    print (\"10より大きく25以下です\")\n",
    "elif x > 25:\n",
    "    print (\"25より大きいです\")\n",
    "else:\n",
    "    exit\n"
   ]
  },
  {
   "cell_type": "code",
   "execution_count": 16,
   "metadata": {},
   "outputs": [
    {
     "data": {
      "text/plain": [
       "2"
      ]
     },
     "execution_count": 16,
     "metadata": {},
     "output_type": "execute_result"
    }
   ],
   "source": [
    "#余が出力できるよ\n",
    "14 % 4"
   ]
  },
  {
   "cell_type": "code",
   "execution_count": 17,
   "metadata": {},
   "outputs": [
    {
     "data": {
      "text/plain": [
       "3"
      ]
     },
     "execution_count": 17,
     "metadata": {},
     "output_type": "execute_result"
    }
   ],
   "source": [
    "#商が出力できるよ\n",
    "14 // 4"
   ]
  },
  {
   "cell_type": "code",
   "execution_count": 19,
   "metadata": {},
   "outputs": [
    {
     "name": "stdout",
     "output_type": "stream",
     "text": [
      "もう少し頑張ろう！\n"
     ]
    }
   ],
   "source": [
    "age = 48\n",
    "if age > 65:\n",
    "    print (\"お疲れ様です！\")\n",
    "else:\n",
    "    print (\"もう少し頑張ろう！\") "
   ]
  }
 ],
 "metadata": {
  "kernelspec": {
   "display_name": "Python 3",
   "language": "python",
   "name": "python3"
  },
  "language_info": {
   "codemirror_mode": {
    "name": "ipython",
    "version": 3
   },
   "file_extension": ".py",
   "mimetype": "text/x-python",
   "name": "python",
   "nbconvert_exporter": "python",
   "pygments_lexer": "ipython3",
   "version": "3.13.0"
  }
 },
 "nbformat": 4,
 "nbformat_minor": 2
}
